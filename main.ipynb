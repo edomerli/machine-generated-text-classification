{
 "cells": [
  {
   "cell_type": "markdown",
   "metadata": {},
   "source": [
    "# Binary Human-Written vs Machine-Generated Text Classification"
   ]
  },
  {
   "cell_type": "markdown",
   "metadata": {},
   "source": [
    "### Imports"
   ]
  },
  {
   "cell_type": "code",
   "execution_count": 1,
   "metadata": {},
   "outputs": [],
   "source": [
    "# Run this cell to install the required packages\n",
    "\n",
    "#TODO: add all packages that need to be installed in colab\n",
    "# !pip install ipywidgets   #TODO: test if ipywidgets works also in colab or if must use @param etc."
   ]
  },
  {
   "cell_type": "code",
   "execution_count": 19,
   "metadata": {},
   "outputs": [],
   "source": [
    "import json\n",
    "import random\n",
    "import numpy as np\n",
    "import pandas as pd\n",
    "import matplotlib.pyplot as plt\n",
    "from pathlib import Path\n",
    "\n",
    "from nltk.tokenize import word_tokenize\n",
    "\n",
    "import torch\n",
    "from torch import nn\n",
    "from torch.utils.data import Dataset, DataLoader\n",
    "from torchsummary import summary\n",
    "\n",
    "from ipywidgets import interact\n",
    "\n",
    "from lightning import LightningModule\n",
    "from lightning.pytorch import Trainer, seed_everything\n",
    "from lightning.pytorch.loggers import TensorBoardLogger\n",
    "from lightning.pytorch.callbacks import ModelCheckpoint\n",
    "from lightning.pytorch.callbacks.early_stopping import EarlyStopping\n",
    "from torchmetrics import Accuracy, F1Score\n",
    "\n",
    "import evaluate\n",
    "from transformers import AutoTokenizer, BertForSequenceClassification, AutoModelForSequenceClassification"
   ]
  },
  {
   "cell_type": "markdown",
   "metadata": {},
   "source": [
    "## Data Loading"
   ]
  },
  {
   "cell_type": "code",
   "execution_count": 2,
   "metadata": {},
   "outputs": [],
   "source": [
    "train_df = pd.read_json(path_or_buf='./data/subtaskA_train_monolingual.jsonl', lines=True)\n",
    "train_df.set_index('id',inplace=True)\n",
    "\n",
    "val_df = pd.read_json(path_or_buf='./data/subtaskA_dev_monolingual.jsonl', lines=True)\n",
    "val_df.set_index('id',inplace=True)\n",
    "\n",
    "test_df = pd.read_json(path_or_buf='./data/subtaskA_test_monolingual.jsonl', lines=True)\n",
    "test_df.set_index('id',inplace=True)"
   ]
  },
  {
   "cell_type": "code",
   "execution_count": 3,
   "metadata": {},
   "outputs": [
    {
     "data": {
      "text/html": [
       "<div>\n",
       "<style scoped>\n",
       "    .dataframe tbody tr th:only-of-type {\n",
       "        vertical-align: middle;\n",
       "    }\n",
       "\n",
       "    .dataframe tbody tr th {\n",
       "        vertical-align: top;\n",
       "    }\n",
       "\n",
       "    .dataframe thead th {\n",
       "        text-align: right;\n",
       "    }\n",
       "</style>\n",
       "<table border=\"1\" class=\"dataframe\">\n",
       "  <thead>\n",
       "    <tr style=\"text-align: right;\">\n",
       "      <th></th>\n",
       "      <th>text</th>\n",
       "      <th>label</th>\n",
       "      <th>model</th>\n",
       "      <th>source</th>\n",
       "    </tr>\n",
       "    <tr>\n",
       "      <th>id</th>\n",
       "      <th></th>\n",
       "      <th></th>\n",
       "      <th></th>\n",
       "      <th></th>\n",
       "    </tr>\n",
       "  </thead>\n",
       "  <tbody>\n",
       "    <tr>\n",
       "      <th>0</th>\n",
       "      <td>Forza Motorsport is a popular racing game that...</td>\n",
       "      <td>1</td>\n",
       "      <td>chatGPT</td>\n",
       "      <td>wikihow</td>\n",
       "    </tr>\n",
       "    <tr>\n",
       "      <th>1</th>\n",
       "      <td>Buying Virtual Console games for your Nintendo...</td>\n",
       "      <td>1</td>\n",
       "      <td>chatGPT</td>\n",
       "      <td>wikihow</td>\n",
       "    </tr>\n",
       "    <tr>\n",
       "      <th>2</th>\n",
       "      <td>Windows NT 4.0 was a popular operating system ...</td>\n",
       "      <td>1</td>\n",
       "      <td>chatGPT</td>\n",
       "      <td>wikihow</td>\n",
       "    </tr>\n",
       "    <tr>\n",
       "      <th>3</th>\n",
       "      <td>How to Make Perfume\\n\\nPerfume is a great way ...</td>\n",
       "      <td>1</td>\n",
       "      <td>chatGPT</td>\n",
       "      <td>wikihow</td>\n",
       "    </tr>\n",
       "    <tr>\n",
       "      <th>4</th>\n",
       "      <td>How to Convert Song Lyrics to a Song'\\n\\nConve...</td>\n",
       "      <td>1</td>\n",
       "      <td>chatGPT</td>\n",
       "      <td>wikihow</td>\n",
       "    </tr>\n",
       "  </tbody>\n",
       "</table>\n",
       "</div>"
      ],
      "text/plain": [
       "                                                 text  label    model   source\n",
       "id                                                                            \n",
       "0   Forza Motorsport is a popular racing game that...      1  chatGPT  wikihow\n",
       "1   Buying Virtual Console games for your Nintendo...      1  chatGPT  wikihow\n",
       "2   Windows NT 4.0 was a popular operating system ...      1  chatGPT  wikihow\n",
       "3   How to Make Perfume\\n\\nPerfume is a great way ...      1  chatGPT  wikihow\n",
       "4   How to Convert Song Lyrics to a Song'\\n\\nConve...      1  chatGPT  wikihow"
      ]
     },
     "execution_count": 3,
     "metadata": {},
     "output_type": "execute_result"
    }
   ],
   "source": [
    "train_df.head()"
   ]
  },
  {
   "cell_type": "code",
   "execution_count": 4,
   "metadata": {},
   "outputs": [
    {
     "data": {
      "text/html": [
       "<div>\n",
       "<style scoped>\n",
       "    .dataframe tbody tr th:only-of-type {\n",
       "        vertical-align: middle;\n",
       "    }\n",
       "\n",
       "    .dataframe tbody tr th {\n",
       "        vertical-align: top;\n",
       "    }\n",
       "\n",
       "    .dataframe thead th {\n",
       "        text-align: right;\n",
       "    }\n",
       "</style>\n",
       "<table border=\"1\" class=\"dataframe\">\n",
       "  <thead>\n",
       "    <tr style=\"text-align: right;\">\n",
       "      <th></th>\n",
       "      <th>text</th>\n",
       "      <th>label</th>\n",
       "      <th>model</th>\n",
       "      <th>source</th>\n",
       "    </tr>\n",
       "    <tr>\n",
       "      <th>id</th>\n",
       "      <th></th>\n",
       "      <th></th>\n",
       "      <th></th>\n",
       "      <th></th>\n",
       "    </tr>\n",
       "  </thead>\n",
       "  <tbody>\n",
       "    <tr>\n",
       "      <th>0</th>\n",
       "      <td>Giving gifts should always be enjoyable.  Howe...</td>\n",
       "      <td>1</td>\n",
       "      <td>bloomz</td>\n",
       "      <td>wikihow</td>\n",
       "    </tr>\n",
       "    <tr>\n",
       "      <th>1</th>\n",
       "      <td>Yveltal (Japanese: ユベルタル) is one of the main a...</td>\n",
       "      <td>1</td>\n",
       "      <td>bloomz</td>\n",
       "      <td>wikihow</td>\n",
       "    </tr>\n",
       "    <tr>\n",
       "      <th>2</th>\n",
       "      <td>If you'd rather not annoy others by being rude...</td>\n",
       "      <td>1</td>\n",
       "      <td>bloomz</td>\n",
       "      <td>wikihow</td>\n",
       "    </tr>\n",
       "    <tr>\n",
       "      <th>3</th>\n",
       "      <td>If you're interested in visiting gravesite(s) ...</td>\n",
       "      <td>1</td>\n",
       "      <td>bloomz</td>\n",
       "      <td>wikihow</td>\n",
       "    </tr>\n",
       "    <tr>\n",
       "      <th>4</th>\n",
       "      <td>The following are some tips for becoming succe...</td>\n",
       "      <td>1</td>\n",
       "      <td>bloomz</td>\n",
       "      <td>wikihow</td>\n",
       "    </tr>\n",
       "  </tbody>\n",
       "</table>\n",
       "</div>"
      ],
      "text/plain": [
       "                                                 text  label   model   source\n",
       "id                                                                           \n",
       "0   Giving gifts should always be enjoyable.  Howe...      1  bloomz  wikihow\n",
       "1   Yveltal (Japanese: ユベルタル) is one of the main a...      1  bloomz  wikihow\n",
       "2   If you'd rather not annoy others by being rude...      1  bloomz  wikihow\n",
       "3   If you're interested in visiting gravesite(s) ...      1  bloomz  wikihow\n",
       "4   The following are some tips for becoming succe...      1  bloomz  wikihow"
      ]
     },
     "execution_count": 4,
     "metadata": {},
     "output_type": "execute_result"
    }
   ],
   "source": [
    "val_df.head()"
   ]
  },
  {
   "cell_type": "code",
   "execution_count": 5,
   "metadata": {},
   "outputs": [
    {
     "data": {
      "text/html": [
       "<div>\n",
       "<style scoped>\n",
       "    .dataframe tbody tr th:only-of-type {\n",
       "        vertical-align: middle;\n",
       "    }\n",
       "\n",
       "    .dataframe tbody tr th {\n",
       "        vertical-align: top;\n",
       "    }\n",
       "\n",
       "    .dataframe thead th {\n",
       "        text-align: right;\n",
       "    }\n",
       "</style>\n",
       "<table border=\"1\" class=\"dataframe\">\n",
       "  <thead>\n",
       "    <tr style=\"text-align: right;\">\n",
       "      <th></th>\n",
       "      <th>text</th>\n",
       "      <th>label</th>\n",
       "    </tr>\n",
       "    <tr>\n",
       "      <th>id</th>\n",
       "      <th></th>\n",
       "      <th></th>\n",
       "    </tr>\n",
       "  </thead>\n",
       "  <tbody>\n",
       "    <tr>\n",
       "      <th>0</th>\n",
       "      <td>Today, many adults or teenage drivers are hook...</td>\n",
       "      <td>0</td>\n",
       "    </tr>\n",
       "    <tr>\n",
       "      <th>1</th>\n",
       "      <td>The automobile, since its advent, has revoluti...</td>\n",
       "      <td>1</td>\n",
       "    </tr>\n",
       "    <tr>\n",
       "      <th>2</th>\n",
       "      <td>One policy that could potentially improve aca...</td>\n",
       "      <td>1</td>\n",
       "    </tr>\n",
       "    <tr>\n",
       "      <th>3</th>\n",
       "      <td>Title: Navigating the Road Ahead: The Case for...</td>\n",
       "      <td>1</td>\n",
       "    </tr>\n",
       "    <tr>\n",
       "      <th>4</th>\n",
       "      <td>Have you ever woken up in the morning and wish...</td>\n",
       "      <td>0</td>\n",
       "    </tr>\n",
       "  </tbody>\n",
       "</table>\n",
       "</div>"
      ],
      "text/plain": [
       "                                                 text  label\n",
       "id                                                          \n",
       "0   Today, many adults or teenage drivers are hook...      0\n",
       "1   The automobile, since its advent, has revoluti...      1\n",
       "2    One policy that could potentially improve aca...      1\n",
       "3   Title: Navigating the Road Ahead: The Case for...      1\n",
       "4   Have you ever woken up in the morning and wish...      0"
      ]
     },
     "execution_count": 5,
     "metadata": {},
     "output_type": "execute_result"
    }
   ],
   "source": [
    "test_df.head()"
   ]
  },
  {
   "cell_type": "markdown",
   "metadata": {},
   "source": [
    "## Data exploration"
   ]
  },
  {
   "cell_type": "code",
   "execution_count": 6,
   "metadata": {},
   "outputs": [
    {
     "data": {
      "application/vnd.jupyter.widget-view+json": {
       "model_id": "36bd793cfec341479d886873f79ac47e",
       "version_major": 2,
       "version_minor": 0
      },
      "text/plain": [
       "interactive(children=(IntSlider(value=59878, description='i', max=119756), Output()), _dom_classes=('widget-in…"
      ]
     },
     "metadata": {},
     "output_type": "display_data"
    }
   ],
   "source": [
    "@interact(i=(0, len(train_df)-1, 1))\n",
    "def print_datapoint(i):\n",
    "    return train_df.loc[i]"
   ]
  },
  {
   "cell_type": "code",
   "execution_count": 8,
   "metadata": {},
   "outputs": [
    {
     "data": {
      "application/vnd.jupyter.widget-view+json": {
       "model_id": "e2a579a6d08745fe8147c640700ad558",
       "version_major": 2,
       "version_minor": 0
      },
      "text/plain": [
       "interactive(children=(IntSlider(value=2499, description='i', max=4999), Output()), _dom_classes=('widget-inter…"
      ]
     },
     "metadata": {},
     "output_type": "display_data"
    }
   ],
   "source": [
    "@interact(i=(0, len(val_df)-1, 1))\n",
    "def print_datapoint(i):\n",
    "    return val_df.loc[i]"
   ]
  },
  {
   "cell_type": "code",
   "execution_count": 9,
   "metadata": {},
   "outputs": [
    {
     "data": {
      "application/vnd.jupyter.widget-view+json": {
       "model_id": "d9391eafdb1840ec99f7f4ca0396208d",
       "version_major": 2,
       "version_minor": 0
      },
      "text/plain": [
       "interactive(children=(IntSlider(value=17135, description='i', max=34271), Output()), _dom_classes=('widget-int…"
      ]
     },
     "metadata": {},
     "output_type": "display_data"
    }
   ],
   "source": [
    "@interact(i=(0, len(test_df)-1, 1))\n",
    "def print_datapoint(i):\n",
    "    return test_df.loc[i]"
   ]
  },
  {
   "cell_type": "code",
   "execution_count": 7,
   "metadata": {},
   "outputs": [],
   "source": [
    "def print_stats(df, name):\n",
    "    print(f\"Stats for {name} data:\")\n",
    "    print(f\"Dataset size: {len(df)}\")\n",
    "    print(f\"Percentage of texts labeled as 1s (machine generated): {len(df[df['label'] == 1])/len(df)*100:.2f}% \\n\")"
   ]
  },
  {
   "cell_type": "code",
   "execution_count": 8,
   "metadata": {},
   "outputs": [
    {
     "name": "stdout",
     "output_type": "stream",
     "text": [
      "Stats for training data:\n",
      "Dataset size: 119757\n",
      "Percentage of texts labeled as 1s (machine generated): 47.10% \n",
      "\n",
      "Stats for validation data:\n",
      "Dataset size: 5000\n",
      "Percentage of texts labeled as 1s (machine generated): 50.00% \n",
      "\n",
      "Stats for test data:\n",
      "Dataset size: 34272\n",
      "Percentage of texts labeled as 1s (machine generated): 52.52% \n",
      "\n"
     ]
    }
   ],
   "source": [
    "print_stats(train_df, \"training\")\n",
    "print_stats(val_df, \"validation\")\n",
    "print_stats(test_df, \"test\")"
   ]
  },
  {
   "cell_type": "markdown",
   "metadata": {},
   "source": [
    "### Plots"
   ]
  },
  {
   "cell_type": "code",
   "execution_count": 9,
   "metadata": {},
   "outputs": [
    {
     "data": {
      "image/png": "[encoded data removed]",
      "text/plain": [
       "<Figure size 1500x500 with 2 Axes>"
      ]
     },
     "metadata": {},
     "output_type": "display_data"
    }
   ],
   "source": [
    "fig, axes = plt.subplots(nrows=1, ncols=2, figsize=(15, 5))\n",
    "\n",
    "fig.suptitle('Training data')\n",
    "train_df[train_df['label'] == 1]['model'].value_counts().plot(kind='bar', ax=axes[0], title='Label 1');\n",
    "train_df[train_df['label'] == 0]['model'].value_counts().plot(kind='bar', ax=axes[1], title='Label 0');"
   ]
  },
  {
   "cell_type": "code",
   "execution_count": 10,
   "metadata": {},
   "outputs": [
    {
     "data": {
      "image/png": "[encoded data removed]",
      "text/plain": [
       "<Figure size 1500x500 with 2 Axes>"
      ]
     },
     "metadata": {},
     "output_type": "display_data"
    }
   ],
   "source": [
    "fig, axes = plt.subplots(nrows=1, ncols=2, figsize=(15, 5))\n",
    "\n",
    "fig.suptitle('Validation data')\n",
    "val_df[val_df['label'] == 1]['model'].value_counts().plot(kind='bar', ax=axes[0], title='Label 1');\n",
    "val_df[val_df['label'] == 0]['model'].value_counts().plot(kind='bar', ax=axes[1], title='Label 0');"
   ]
  },
  {
   "cell_type": "markdown",
   "metadata": {},
   "source": [
    "The validation data contains text generated from a different LLM, bloomz, not present in the models that generated texts for the training data"
   ]
  },
  {
   "cell_type": "code",
   "execution_count": 11,
   "metadata": {},
   "outputs": [
    {
     "data": {
      "image/png": "[encoded data removed]",
      "text/plain": [
       "<Figure size 1500x500 with 2 Axes>"
      ]
     },
     "metadata": {},
     "output_type": "display_data"
    }
   ],
   "source": [
    "fig, axes = plt.subplots(nrows=1, ncols=2, figsize=(15, 5))\n",
    "\n",
    "fig.suptitle('Training data')\n",
    "train_df[train_df['label'] == 1]['source'].value_counts().plot(kind='bar', ax=axes[0], title='Label 1');\n",
    "train_df[train_df['label'] == 0]['source'].value_counts().plot(kind='bar', ax=axes[1], title='Label 0');"
   ]
  },
  {
   "cell_type": "code",
   "execution_count": 14,
   "metadata": {},
   "outputs": [],
   "source": [
    "# TODO: what to do with the fact that we have much less peerread in the human written data??? Let's see how the model performs on pearread data \n",
    "# (it should be better in validation bcs unbalanced towards a class, but worse in validation bcs balanced, see below)"
   ]
  },
  {
   "cell_type": "code",
   "execution_count": 12,
   "metadata": {},
   "outputs": [
    {
     "data": {
      "image/png": "[encoded data removed]",
      "text/plain": [
       "<Figure size 1500x500 with 2 Axes>"
      ]
     },
     "metadata": {},
     "output_type": "display_data"
    }
   ],
   "source": [
    "fig, axes = plt.subplots(nrows=1, ncols=2, figsize=(15, 5))\n",
    "\n",
    "fig.suptitle('Validation data')\n",
    "val_df[val_df['label'] == 1]['source'].value_counts().plot(kind='bar', ax=axes[0], title='Label 1');\n",
    "val_df[val_df['label'] == 0]['source'].value_counts().plot(kind='bar', ax=axes[1], title='Label 0');"
   ]
  },
  {
   "cell_type": "markdown",
   "metadata": {},
   "source": [
    "The training and validation datasets are pretty balanced with respect to the fields \"model\" and \"source\".\n",
    "\n",
    "We ignore these two in the following steps (as model would be only useful for a harder multiclass classification, source could be optionally passed to the model [TODO: try] to give more context) but keep them in the data to look for insights in the error analysis phase."
   ]
  },
  {
   "cell_type": "code",
   "execution_count": 16,
   "metadata": {},
   "outputs": [],
   "source": [
    "# TODO: probably should use BERTTokenizer as we will use that later, try with it\n",
    "\n",
    "train_df['word_count'] = train_df['text'].apply(lambda text: len(word_tokenize(text)))\n",
    "val_df['word_count'] = val_df['text'].apply(lambda text: len(word_tokenize(text)))\n",
    "test_df['word_count'] = test_df['text'].apply(lambda text: len(word_tokenize(text)))"
   ]
  },
  {
   "cell_type": "code",
   "execution_count": 17,
   "metadata": {},
   "outputs": [
    {
     "data": {
      "text/html": [
       "<div>\n",
       "<style scoped>\n",
       "    .dataframe tbody tr th:only-of-type {\n",
       "        vertical-align: middle;\n",
       "    }\n",
       "\n",
       "    .dataframe tbody tr th {\n",
       "        vertical-align: top;\n",
       "    }\n",
       "\n",
       "    .dataframe thead th {\n",
       "        text-align: right;\n",
       "    }\n",
       "</style>\n",
       "<table border=\"1\" class=\"dataframe\">\n",
       "  <thead>\n",
       "    <tr style=\"text-align: right;\">\n",
       "      <th></th>\n",
       "      <th>text</th>\n",
       "      <th>label</th>\n",
       "      <th>model</th>\n",
       "      <th>source</th>\n",
       "      <th>word_count</th>\n",
       "    </tr>\n",
       "    <tr>\n",
       "      <th>id</th>\n",
       "      <th></th>\n",
       "      <th></th>\n",
       "      <th></th>\n",
       "      <th></th>\n",
       "      <th></th>\n",
       "    </tr>\n",
       "  </thead>\n",
       "  <tbody>\n",
       "    <tr>\n",
       "      <th>0</th>\n",
       "      <td>Forza Motorsport is a popular racing game that...</td>\n",
       "      <td>1</td>\n",
       "      <td>chatGPT</td>\n",
       "      <td>wikihow</td>\n",
       "      <td>487</td>\n",
       "    </tr>\n",
       "    <tr>\n",
       "      <th>1</th>\n",
       "      <td>Buying Virtual Console games for your Nintendo...</td>\n",
       "      <td>1</td>\n",
       "      <td>chatGPT</td>\n",
       "      <td>wikihow</td>\n",
       "      <td>813</td>\n",
       "    </tr>\n",
       "    <tr>\n",
       "      <th>2</th>\n",
       "      <td>Windows NT 4.0 was a popular operating system ...</td>\n",
       "      <td>1</td>\n",
       "      <td>chatGPT</td>\n",
       "      <td>wikihow</td>\n",
       "      <td>1041</td>\n",
       "    </tr>\n",
       "    <tr>\n",
       "      <th>3</th>\n",
       "      <td>How to Make Perfume\\n\\nPerfume is a great way ...</td>\n",
       "      <td>1</td>\n",
       "      <td>chatGPT</td>\n",
       "      <td>wikihow</td>\n",
       "      <td>942</td>\n",
       "    </tr>\n",
       "    <tr>\n",
       "      <th>4</th>\n",
       "      <td>How to Convert Song Lyrics to a Song'\\n\\nConve...</td>\n",
       "      <td>1</td>\n",
       "      <td>chatGPT</td>\n",
       "      <td>wikihow</td>\n",
       "      <td>652</td>\n",
       "    </tr>\n",
       "  </tbody>\n",
       "</table>\n",
       "</div>"
      ],
      "text/plain": [
       "                                                 text  label    model  \\\n",
       "id                                                                      \n",
       "0   Forza Motorsport is a popular racing game that...      1  chatGPT   \n",
       "1   Buying Virtual Console games for your Nintendo...      1  chatGPT   \n",
       "2   Windows NT 4.0 was a popular operating system ...      1  chatGPT   \n",
       "3   How to Make Perfume\\n\\nPerfume is a great way ...      1  chatGPT   \n",
       "4   How to Convert Song Lyrics to a Song'\\n\\nConve...      1  chatGPT   \n",
       "\n",
       "     source  word_count  \n",
       "id                       \n",
       "0   wikihow         487  \n",
       "1   wikihow         813  \n",
       "2   wikihow        1041  \n",
       "3   wikihow         942  \n",
       "4   wikihow         652  "
      ]
     },
     "execution_count": 17,
     "metadata": {},
     "output_type": "execute_result"
    }
   ],
   "source": [
    "train_df.head()"
   ]
  },
  {
   "cell_type": "code",
   "execution_count": 18,
   "metadata": {},
   "outputs": [
    {
     "data": {
      "image/png": "[encoded data removed]",
      "text/plain": [
       "<Figure size 1500x500 with 3 Axes>"
      ]
     },
     "metadata": {},
     "output_type": "display_data"
    }
   ],
   "source": [
    "fig, axes = plt.subplots(nrows=1, ncols=3, figsize=(15, 5))\n",
    "\n",
    "fig.suptitle('Word count distribution')\n",
    "train_df['word_count'].plot(kind='hist', bins=100, ax=axes[0], title='Training data');\n",
    "val_df['word_count'].plot(kind='hist', bins=100, ax=axes[1], title='Validation data');\n",
    "test_df['word_count'].plot(kind='hist', bins=100, ax=axes[2], title='Test data');"
   ]
  },
  {
   "cell_type": "code",
   "execution_count": 45,
   "metadata": {},
   "outputs": [
    {
     "name": "stdout",
     "output_type": "stream",
     "text": [
      "Plot considering 99.57% of the training data and 99.62% of the test data\n"
     ]
    },
    {
     "data": {
      "image/png": "[encoded data removed]",
      "text/plain": [
       "<Figure size 1500x500 with 2 Axes>"
      ]
     },
     "metadata": {},
     "output_type": "display_data"
    }
   ],
   "source": [
    "# Let's consider for a moment only the data below a certain threshold length (5000) for a more informative plot\n",
    "print(f\"\"\"\n",
    "      Plot considering {len(train_df[train_df['word_count'] < 5000]) / len(train_df) * 100 :.2f}% of the training data, \n",
    "      {len(val_df[val_df['word_count'] < 5000]) / len(val_df) * 100 :.2f}% of the validation data\n",
    "      and {len(test_df[test_df['word_count'] < 5000]) / len(test_df) * 100 :.2f}% of the test data.\"\"\")\n",
    "\n",
    "fig, axes = plt.subplots(nrows=1, ncols=2, figsize=(15, 5))\n",
    "\n",
    "fig.suptitle('Word count distribution')\n",
    "train_df[train_df['word_count'] < 5000]['word_count'].plot(kind='hist', bins=100, ax=axes[0], title='Training data');\n",
    "val_df[val_df['word_count'] < 5000]['word_count'].plot(kind='hist', bins=100, ax=axes[1], title='Validation data');\n",
    "test_df[test_df['word_count'] < 5000]['word_count'].plot(kind='hist', bins=100, ax=axes[1], title='Test data');"
   ]
  },
  {
   "cell_type": "code",
   "execution_count": 28,
   "metadata": {},
   "outputs": [
    {
     "name": "stdout",
     "output_type": "stream",
     "text": [
      "Word count statistics for training set:\n"
     ]
    },
    {
     "ename": "KeyError",
     "evalue": "'word_count'",
     "output_type": "error",
     "traceback": [
      "\u001b[1;31m---------------------------------------------------------------------------\u001b[0m",
      "\u001b[1;31mKeyError\u001b[0m                                  Traceback (most recent call last)",
      "File \u001b[1;32md:\\Users\\edo\\envs\\nlp\\Lib\\site-packages\\pandas\\core\\indexes\\base.py:3790\u001b[0m, in \u001b[0;36mIndex.get_loc\u001b[1;34m(self, key)\u001b[0m\n\u001b[0;32m   3789\u001b[0m \u001b[38;5;28;01mtry\u001b[39;00m:\n\u001b[1;32m-> 3790\u001b[0m     \u001b[38;5;28;01mreturn\u001b[39;00m \u001b[38;5;28;43mself\u001b[39;49m\u001b[38;5;241;43m.\u001b[39;49m\u001b[43m_engine\u001b[49m\u001b[38;5;241;43m.\u001b[39;49m\u001b[43mget_loc\u001b[49m\u001b[43m(\u001b[49m\u001b[43mcasted_key\u001b[49m\u001b[43m)\u001b[49m\n\u001b[0;32m   3791\u001b[0m \u001b[38;5;28;01mexcept\u001b[39;00m \u001b[38;5;167;01mKeyError\u001b[39;00m \u001b[38;5;28;01mas\u001b[39;00m err:\n",
      "File \u001b[1;32mindex.pyx:152\u001b[0m, in \u001b[0;36mpandas._libs.index.IndexEngine.get_loc\u001b[1;34m()\u001b[0m\n",
      "File \u001b[1;32mindex.pyx:181\u001b[0m, in \u001b[0;36mpandas._libs.index.IndexEngine.get_loc\u001b[1;34m()\u001b[0m\n",
      "File \u001b[1;32mpandas\\_libs\\hashtable_class_helper.pxi:7080\u001b[0m, in \u001b[0;36mpandas._libs.hashtable.PyObjectHashTable.get_item\u001b[1;34m()\u001b[0m\n",
      "File \u001b[1;32mpandas\\_libs\\hashtable_class_helper.pxi:7088\u001b[0m, in \u001b[0;36mpandas._libs.hashtable.PyObjectHashTable.get_item\u001b[1;34m()\u001b[0m\n",
      "\u001b[1;31mKeyError\u001b[0m: 'word_count'",
      "\nThe above exception was the direct cause of the following exception:\n",
      "\u001b[1;31mKeyError\u001b[0m                                  Traceback (most recent call last)",
      "Cell \u001b[1;32mIn[28], line 2\u001b[0m\n\u001b[0;32m      1\u001b[0m \u001b[38;5;28mprint\u001b[39m(\u001b[38;5;124m\"\u001b[39m\u001b[38;5;124mWord count statistics for training set:\u001b[39m\u001b[38;5;124m\"\u001b[39m)\n\u001b[1;32m----> 2\u001b[0m \u001b[38;5;28mprint\u001b[39m(\u001b[43mtrain_df\u001b[49m\u001b[43m[\u001b[49m\u001b[38;5;124;43m'\u001b[39;49m\u001b[38;5;124;43mword_count\u001b[39;49m\u001b[38;5;124;43m'\u001b[39;49m\u001b[43m]\u001b[49m\u001b[38;5;241m.\u001b[39mdescribe())\n\u001b[0;32m      4\u001b[0m \u001b[38;5;28mprint\u001b[39m(\u001b[38;5;124m\"\u001b[39m\u001b[38;5;130;01m\\n\u001b[39;00m\u001b[38;5;124m\"\u001b[39m)\n\u001b[0;32m      5\u001b[0m \u001b[38;5;28mprint\u001b[39m(\u001b[38;5;124m\"\u001b[39m\u001b[38;5;124mWord count statistics for validation set:\u001b[39m\u001b[38;5;124m\"\u001b[39m)\n",
      "File \u001b[1;32md:\\Users\\edo\\envs\\nlp\\Lib\\site-packages\\pandas\\core\\frame.py:3893\u001b[0m, in \u001b[0;36mDataFrame.__getitem__\u001b[1;34m(self, key)\u001b[0m\n\u001b[0;32m   3891\u001b[0m \u001b[38;5;28;01mif\u001b[39;00m \u001b[38;5;28mself\u001b[39m\u001b[38;5;241m.\u001b[39mcolumns\u001b[38;5;241m.\u001b[39mnlevels \u001b[38;5;241m>\u001b[39m \u001b[38;5;241m1\u001b[39m:\n\u001b[0;32m   3892\u001b[0m     \u001b[38;5;28;01mreturn\u001b[39;00m \u001b[38;5;28mself\u001b[39m\u001b[38;5;241m.\u001b[39m_getitem_multilevel(key)\n\u001b[1;32m-> 3893\u001b[0m indexer \u001b[38;5;241m=\u001b[39m \u001b[38;5;28;43mself\u001b[39;49m\u001b[38;5;241;43m.\u001b[39;49m\u001b[43mcolumns\u001b[49m\u001b[38;5;241;43m.\u001b[39;49m\u001b[43mget_loc\u001b[49m\u001b[43m(\u001b[49m\u001b[43mkey\u001b[49m\u001b[43m)\u001b[49m\n\u001b[0;32m   3894\u001b[0m \u001b[38;5;28;01mif\u001b[39;00m is_integer(indexer):\n\u001b[0;32m   3895\u001b[0m     indexer \u001b[38;5;241m=\u001b[39m [indexer]\n",
      "File \u001b[1;32md:\\Users\\edo\\envs\\nlp\\Lib\\site-packages\\pandas\\core\\indexes\\base.py:3797\u001b[0m, in \u001b[0;36mIndex.get_loc\u001b[1;34m(self, key)\u001b[0m\n\u001b[0;32m   3792\u001b[0m     \u001b[38;5;28;01mif\u001b[39;00m \u001b[38;5;28misinstance\u001b[39m(casted_key, \u001b[38;5;28mslice\u001b[39m) \u001b[38;5;129;01mor\u001b[39;00m (\n\u001b[0;32m   3793\u001b[0m         \u001b[38;5;28misinstance\u001b[39m(casted_key, abc\u001b[38;5;241m.\u001b[39mIterable)\n\u001b[0;32m   3794\u001b[0m         \u001b[38;5;129;01mand\u001b[39;00m \u001b[38;5;28many\u001b[39m(\u001b[38;5;28misinstance\u001b[39m(x, \u001b[38;5;28mslice\u001b[39m) \u001b[38;5;28;01mfor\u001b[39;00m x \u001b[38;5;129;01min\u001b[39;00m casted_key)\n\u001b[0;32m   3795\u001b[0m     ):\n\u001b[0;32m   3796\u001b[0m         \u001b[38;5;28;01mraise\u001b[39;00m InvalidIndexError(key)\n\u001b[1;32m-> 3797\u001b[0m     \u001b[38;5;28;01mraise\u001b[39;00m \u001b[38;5;167;01mKeyError\u001b[39;00m(key) \u001b[38;5;28;01mfrom\u001b[39;00m \u001b[38;5;21;01merr\u001b[39;00m\n\u001b[0;32m   3798\u001b[0m \u001b[38;5;28;01mexcept\u001b[39;00m \u001b[38;5;167;01mTypeError\u001b[39;00m:\n\u001b[0;32m   3799\u001b[0m     \u001b[38;5;66;03m# If we have a listlike key, _check_indexing_error will raise\u001b[39;00m\n\u001b[0;32m   3800\u001b[0m     \u001b[38;5;66;03m#  InvalidIndexError. Otherwise we fall through and re-raise\u001b[39;00m\n\u001b[0;32m   3801\u001b[0m     \u001b[38;5;66;03m#  the TypeError.\u001b[39;00m\n\u001b[0;32m   3802\u001b[0m     \u001b[38;5;28mself\u001b[39m\u001b[38;5;241m.\u001b[39m_check_indexing_error(key)\n",
      "\u001b[1;31mKeyError\u001b[0m: 'word_count'"
     ]
    }
   ],
   "source": [
    "print(\"Word count statistics for training set:\")\n",
    "print(train_df['word_count'].describe())\n",
    "\n",
    "print(\"\\n\")\n",
    "print(\"Word count statistics for validation set:\")\n",
    "print(val_df['word_count'].describe())\n",
    "\n",
    "print(\"\\n\")\n",
    "print(\"Word count statistics for test set:\")\n",
    "print(test_df['word_count'].describe())"
   ]
  },
  {
   "cell_type": "markdown",
   "metadata": {},
   "source": [
    "Training and testing data are similar, or at least compatible, in terms of word counts of the texts, with test data having a noticably smaller word count"
   ]
  },
  {
   "cell_type": "code",
   "execution_count": 47,
   "metadata": {},
   "outputs": [],
   "source": [
    "train_df.drop(columns='word_count', inplace=True)\n",
    "val_df.drop(columns='word_count', inplace=True)\n",
    "test_df.drop(columns='word_count', inplace=True)"
   ]
  },
  {
   "cell_type": "code",
   "execution_count": 48,
   "metadata": {},
   "outputs": [],
   "source": [
    "# TODO: more analysis of the different vocabularies of the different models and sources? of the vocabularies in general?"
   ]
  },
  {
   "cell_type": "markdown",
   "metadata": {},
   "source": [
    "## Data preparation"
   ]
  },
  {
   "cell_type": "code",
   "execution_count": 33,
   "metadata": {},
   "outputs": [],
   "source": [
    "class TextDataset(Dataset):\n",
    "    def __init__(self, dataframe, transform=None):\n",
    "        self.df = dataframe\n",
    "        self.transform = transform\n",
    "\n",
    "    def __len__(self):\n",
    "        return len(self.df)\n",
    "\n",
    "    def __getitem__(self, idx):\n",
    "        row = self.df.iloc[idx]\n",
    "        return {\n",
    "            'text': self.transform(row['text']) if self.transform else row['text'],\n",
    "            'label': row['label']\n",
    "        }"
   ]
  },
  {
   "cell_type": "code",
   "execution_count": 13,
   "metadata": {},
   "outputs": [],
   "source": [
    "bert_model_name = 'google/bert_uncased_L-2_H-128_A-2' #TODO: try 'google/bert_uncased_L-2_H-128_A-2' (TinyBert) e 'distilbert-base-uncased' con DistilBertForSequenceClassification e AutoTokenizer"
   ]
  },
  {
   "cell_type": "code",
   "execution_count": 37,
   "metadata": {},
   "outputs": [],
   "source": [
    "BERT_tokenizer = AutoTokenizer.from_pretrained(bert_model_name)\n",
    "\n",
    "def preprocess_function(text):\n",
    "    return BERT_tokenizer(text, truncation=True, padding=False)\n",
    "\n",
    "train_dataset = TextDataset(train_df, transform=preprocess_function)\n",
    "val_dataset = TextDataset(val_df, transform=preprocess_function)\n",
    "test_dataset = TextDataset(test_df, transform=preprocess_function)"
   ]
  },
  {
   "cell_type": "code",
   "execution_count": 52,
   "metadata": {},
   "outputs": [],
   "source": [
    "def padding_collate_fn(batch):\n",
    "    texts = [item['text'] for item in batch]\n",
    "    labels = [item['label'] for item in batch]\n",
    "    return BERT_tokenizer.pad(texts, return_tensors='pt', padding=True), torch.tensor(labels)"
   ]
  },
  {
   "cell_type": "code",
   "execution_count": 53,
   "metadata": {},
   "outputs": [],
   "source": [
    "batch_size = 16\n",
    "\n",
    "train_dataloader = DataLoader(train_dataset, batch_size=batch_size, shuffle=True, collate_fn=padding_collate_fn)\n",
    "val_dataloader = DataLoader(val_dataset, batch_size=batch_size, shuffle=False, collate_fn=padding_collate_fn)\n",
    "test_dataloader = DataLoader(test_dataset, batch_size=batch_size, shuffle=False, collate_fn=padding_collate_fn)"
   ]
  },
  {
   "cell_type": "markdown",
   "metadata": {},
   "source": [
    "## Metrics"
   ]
  },
  {
   "cell_type": "markdown",
   "metadata": {},
   "source": [
    "The official evaluation metric for Subtask A is **accuracy**. In the [challenge website](https://www.codabench.org/competitions/1752/#/pages-tab) the scorer also reports **macro-F1** and **micro-F1**.\n",
    "\n",
    "Since it's a binary classification problem though, we limited ourselves to computing **F1-Score**, as it didn't make sense to consider the macro- and micro- interpretations of the metrics (also because the two classes are balanced). (TODO: in realtà le classi non sono perfettamente bilanciate, quindi magari riguardare le definizioni di micro e macro, che non me le ricordo)"
   ]
  },
  {
   "cell_type": "markdown",
   "metadata": {},
   "source": [
    "## Models"
   ]
  },
  {
   "cell_type": "markdown",
   "metadata": {},
   "source": [
    "### Baseline"
   ]
  },
  {
   "cell_type": "markdown",
   "metadata": {},
   "source": [
    "#### BERT baseline on two different settings: frozen backbone and fully fine-tuned backbone"
   ]
  },
  {
   "cell_type": "code",
   "execution_count": 55,
   "metadata": {},
   "outputs": [],
   "source": [
    "id2label = {0: \"human\", 1: \"machine\"}\n",
    "label2id = {\"human\": 0, \"machine\": 1}"
   ]
  },
  {
   "cell_type": "code",
   "execution_count": 56,
   "metadata": {},
   "outputs": [],
   "source": [
    "class BERTBaseline(LightningModule):\n",
    "    def __init__(self, bert_model_name, lr_backbone, lr_classifier):\n",
    "        super().__init__()\n",
    "        self.save_hyperparameters()\n",
    "\n",
    "        self.model = BertForSequenceClassification.from_pretrained(bert_model_name, num_labels=1, id2label=id2label, label2id=label2id)\n",
    "        self.lr_backbone = lr_backbone\n",
    "        self.lr_classifier = lr_classifier\n",
    "\n",
    "        # if lr_backbone == 0, then the backbone is considered frozen\n",
    "        if lr_backbone == 0:\n",
    "            for param in self.model.base_model.parameters():\n",
    "                param.requires_grad = False\n",
    "\n",
    "        # TODO: add metrics. Use log(on_epoch=True) to accumulate and log the metric at the end of the epoch \n",
    "        self.train_acc = Accuracy(task='binary') #TODO: test it if it works this way\n",
    "        self.val_acc = Accuracy(task='binary')\n",
    "        self.test_acc = Accuracy(task='binary')\n",
    "\n",
    "        self.train_f1 = F1Score(task='binary')\n",
    "        self.val_f1 = F1Score(task='binary')\n",
    "        self.test_f1 = F1Score(task='binary')\n",
    "            \n",
    "    def forward(self, x):\n",
    "        return self.model(**x)\n",
    "    \n",
    "    def configure_optimizers(self):\n",
    "        if self.lr_backbone == 0:\n",
    "            optimizer = torch.optim.Adam(self.model.classifier.parameters(), lr=self.lr_classifier)\n",
    "        else:\n",
    "            optimizer = torch.optim.Adam([\n",
    "                {'params': self.model.base_model.parameters(), 'lr': self.lr_backbone},\n",
    "                {'params': self.model.classifier.parameters(), 'lr': self.lr_classifier}\n",
    "            ])\n",
    "        return optimizer\n",
    "    \n",
    "    def training_step(self, batch, batch_idx):\n",
    "        x, y = batch\n",
    "        logits = self(x).logits #TODO: check if this is the right way to get the logits\n",
    "        loss = nn.BCEWithLogitsLoss()(logits, y)\n",
    "\n",
    "        y_hat = torch.zeros_like(logits)\n",
    "        y_hat[torch.nn.functional.sigmoid(logits) > 0.5] = 1\n",
    "        acc = self.train_acc(y_hat, y)\n",
    "        f1 = self.train_f1(y_hat, y)\n",
    "        self.log_dict({'train_loss': loss, 'train_acc': acc, 'train_f1': f1, 'step': float(self.current_epoch)}, on_epoch=True, prog_bar=True, \n",
    "            logger=True, on_step=False, reduce_fx=\"mean\")\n",
    "        return loss\n",
    "    \n",
    "    def validation_step(self, batch, batch_idx):\n",
    "        x, y = batch\n",
    "        logits = self(x).logits\n",
    "        loss = nn.BCEWithLogitsLoss()(logits, y)\n",
    "\n",
    "        y_hat = torch.zeros_like(logits)\n",
    "        y_hat[torch.nn.functional.sigmoid(logits) > 0.5] = 1\n",
    "        acc = self.val_acc(y_hat, y)\n",
    "        f1 = self.val_f1(y_hat, y)\n",
    "        self.log_dict({'val_loss': loss, 'val_acc': acc, 'val_f1': f1, 'step': float(self.current_epoch)}, on_epoch=True, prog_bar=True, \n",
    "            logger=True, on_step=False, reduce_fx=\"mean\")\n",
    "        return loss\n",
    "    \n",
    "    def test_step(self, batch, batch_idx):\n",
    "        x, y = batch\n",
    "        logits = self(x).logits\n",
    "        loss = nn.BCEWithLogitsLoss()(logits, y)\n",
    "\n",
    "        y_hat = torch.zeros_like(logits)\n",
    "        y_hat[torch.nn.functional.sigmoid(logits) > 0.5] = 1\n",
    "        acc = self.test_acc(y_hat, y)\n",
    "        f1 = self.test_f1(y_hat, y)\n",
    "        self.log_dict({'test_loss': loss, 'test_acc': acc, 'test_f1': f1, 'step': float(self.current_epoch)}, on_epoch=True, prog_bar=True, \n",
    "            logger=True, on_step=False, reduce_fx=\"mean\")\n",
    "        return loss"
   ]
  },
  {
   "cell_type": "code",
   "execution_count": null,
   "metadata": {},
   "outputs": [],
   "source": [
    "class BERTBaseline2(LightningModule):\n",
    "    def __init__(self, bert_model_name, lr_backbone, lr_classifier):\n",
    "        super().__init__()\n",
    "        self.save_hyperparameters()\n",
    "\n",
    "        self.model = BertForSequenceClassification.from_pretrained(bert_model_name, num_labels=2, id2label=id2label, label2id=label2id)\n",
    "        self.lr_backbone = lr_backbone\n",
    "        self.lr_classifier = lr_classifier\n",
    "\n",
    "        # if lr_backbone == 0, then the backbone is considered frozen\n",
    "        if lr_backbone == 0:\n",
    "            for param in self.model.base_model.parameters():\n",
    "                param.requires_grad = False\n",
    "\n",
    "        # TODO: add metrics. Use log(on_epoch=True) to accumulate and log the metric at the end of the epoch \n",
    "        self.train_acc = Accuracy(task='binary') #TODO: test it if it works this way\n",
    "        self.val_acc = Accuracy(task='binary')\n",
    "        self.test_acc = Accuracy(task='binary')\n",
    "\n",
    "        self.train_f1 = F1Score(task='binary')\n",
    "        self.val_f1 = F1Score(task='binary')\n",
    "        self.test_f1 = F1Score(task='binary')\n",
    "            \n",
    "    def forward(self, x):\n",
    "        return self.model(**x)\n",
    "    \n",
    "    def configure_optimizers(self):\n",
    "        if self.lr_backbone == 0:\n",
    "            optimizer = torch.optim.Adam(self.model.classifier.parameters(), lr=self.lr_classifier)\n",
    "        else:\n",
    "            optimizer = torch.optim.Adam([\n",
    "                {'params': self.model.base_model.parameters(), 'lr': self.lr_backbone},\n",
    "                {'params': self.model.classifier.parameters(), 'lr': self.lr_classifier}\n",
    "            ])\n",
    "        return optimizer\n",
    "    \n",
    "    def training_step(self, batch, batch_idx):\n",
    "        x, y = batch\n",
    "        logits = self(x).logits #TODO: check if this is the right way to get the logits\n",
    "        loss = torch.nn.functional.cross_entropy(logits, y)\n",
    "\n",
    "        y_hat = torch.argmax(logits, dim=1)\n",
    "        acc = self.train_acc(y_hat, y)\n",
    "        f1 = self.train_f1(y_hat, y)\n",
    "        self.log_dict({'train_loss': loss, 'train_acc': acc, 'train_f1': f1, 'step': float(self.current_epoch)}, on_epoch=True, prog_bar=True, \n",
    "            logger=True, on_step=False, reduce_fx=\"mean\")\n",
    "        return loss\n",
    "    \n",
    "    def validation_step(self, batch, batch_idx):\n",
    "        x, y = batch\n",
    "        logits = self(x).logits\n",
    "        loss = torch.nn.functional.cross_entropy(logits, y)\n",
    "\n",
    "        y_hat = torch.argmax(logits, dim=1)\n",
    "        acc = self.val_acc(y_hat, y)\n",
    "        f1 = self.val_f1(y_hat, y)\n",
    "        self.log_dict({'val_loss': loss, 'val_acc': acc, 'val_f1': f1, 'step': float(self.current_epoch)}, on_epoch=True, prog_bar=True, \n",
    "            logger=True, on_step=False, reduce_fx=\"mean\")\n",
    "        return loss\n",
    "    \n",
    "    def test_step(self, batch, batch_idx):\n",
    "        x, y = batch\n",
    "        logits = self(x).logits\n",
    "        loss = torch.nn.functional.cross_entropy(logits, y)\n",
    "\n",
    "        y_hat = torch.argmax(logits, dim=1)\n",
    "        acc = self.test_acc(y_hat, y)\n",
    "        f1 = self.test_f1(y_hat, y)\n",
    "        self.log_dict({'test_loss': loss, 'test_acc': acc, 'test_f1': f1, 'step': float(self.current_epoch)}, on_epoch=True, prog_bar=True, \n",
    "            logger=True, on_step=False, reduce_fx=\"mean\")\n",
    "        return loss"
   ]
  },
  {
   "cell_type": "markdown",
   "metadata": {},
   "source": [
    "### Our models"
   ]
  },
  {
   "cell_type": "markdown",
   "metadata": {},
   "source": [
    "## Training"
   ]
  },
  {
   "cell_type": "markdown",
   "metadata": {},
   "source": [
    "TEST"
   ]
  },
  {
   "cell_type": "code",
   "execution_count": null,
   "metadata": {},
   "outputs": [],
   "source": [
    "logs_path = Path.cwd() / \"logs\" / \"lightning_logs\"\n",
    "\n",
    "seeds = [42]\n",
    "\n",
    "epochs = 10     #TODO: increse?\n",
    "\n",
    "train = True"
   ]
  },
  {
   "cell_type": "code",
   "execution_count": null,
   "metadata": {},
   "outputs": [],
   "source": [
    "model_classes = [BERTBaseline, BERTBaseline2]\n",
    "model_names = [\"bert_frozen\", \"bert_frozen2\"]\n",
    "hyperparameters = [\n",
    "    {'bert_model_name': bert_model_name, 'lr_backbone': 0, 'lr_classifier': 1e-3},\n",
    "    {'bert_model_name': bert_model_name, 'lr_backbone': 0, 'lr_classifier': 1e-3}    #TODO: check backbone lr, should it be 1/10 of paper?\n",
    "]\n",
    "\n",
    "if train == True:\n",
    "    for model_class, model_name, hyperparameter in zip(model_classes, model_names, hyperparameters):\n",
    "        for seed in seeds:\n",
    "            print(f\"====Training {model_name} with seed {seed}====\")\n",
    "            seed_everything(seed)\n",
    "\n",
    "            model = model_class(**hyperparameter)\n",
    "\n",
    "            logger = TensorBoardLogger(logs_path, name=f\"{model_name}_seed{seed}\")\n",
    "            checkpoint_callback = ModelCheckpoint(\n",
    "                monitor='val_loss',\n",
    "                dirpath=None,\n",
    "                filename=f'{model_name}-seed={seed}-backbone={bert_model_name}' + '-{epoch:02d}-{val_loss:.2f}-{val_accuracy:.2f}',\n",
    "                save_top_k=1,\n",
    "            )\n",
    "            early_stop_callback = EarlyStopping(\n",
    "                monitor='val_loss',\n",
    "                patience=3,\n",
    "                verbose=True,\n",
    "                mode='min'\n",
    "            )\n",
    "\n",
    "            trainer = Trainer(\n",
    "                max_epochs=epochs, \n",
    "                logger=logger, \n",
    "                log_every_n_steps=1, \n",
    "                callbacks=[checkpoint_callback, early_stop_callback], \n",
    "                deterministic=True\n",
    "            )\n",
    "\n",
    "            trainer.fit(model, train_dataloader, val_dataloader)\n",
    "else:\n",
    "    print(\"Skipping training.\")"
   ]
  },
  {
   "cell_type": "markdown",
   "metadata": {},
   "source": [
    "FINE TEST"
   ]
  },
  {
   "cell_type": "code",
   "execution_count": null,
   "metadata": {},
   "outputs": [],
   "source": [
    "logs_path = Path.cwd() / \"logs\" / \"lightning_logs\"\n",
    "\n",
    "seeds = [42, 24, 79, 3, 151]\n",
    "\n",
    "epochs = 10     #TODO: increse?\n",
    "\n",
    "train = False"
   ]
  },
  {
   "cell_type": "code",
   "execution_count": null,
   "metadata": {},
   "outputs": [],
   "source": [
    "model_classes = [BERTBaseline, BERTBaseline]\n",
    "model_names = [\"bert_frozen\", \"bert_finetuned\"]\n",
    "hyperparameters = [\n",
    "    {'bert_model_name': bert_model_name, 'lr_backbone': 0, 'lr_classifier': 1e-3},\n",
    "    {'bert_model_name': bert_model_name, 'lr_backbone': 1e-5, 'lr_classifier': 1e-3}    #TODO: check backbone lr, should it be 1/10 of paper?\n",
    "]\n",
    "\n",
    "if train == True:\n",
    "    for model_class, model_name, hyperparameter in zip(model_classes, model_names, hyperparameters):\n",
    "        for seed in seeds:\n",
    "            print(f\"====Training {model_name} with seed {seed}====\")\n",
    "            seed_everything(seed)\n",
    "\n",
    "            model = model_class(**hyperparameter)\n",
    "\n",
    "            logger = TensorBoardLogger(logs_path, name=f\"{model_name}_seed{seed}\")\n",
    "            checkpoint_callback = ModelCheckpoint(\n",
    "                monitor='val_loss',\n",
    "                dirpath=None,\n",
    "                filename=f'{model_name}-seed={seed}-backbone={bert_model_name}' + '-{epoch:02d}-{val_loss:.2f}-{val_accuracy:.2f}',\n",
    "                save_top_k=1,\n",
    "            )\n",
    "            early_stop_callback = EarlyStopping(\n",
    "                monitor='val_loss',\n",
    "                patience=3,\n",
    "                verbose=True,\n",
    "                mode='min'\n",
    "            )\n",
    "\n",
    "            trainer = Trainer(\n",
    "                max_epochs=epochs, \n",
    "                logger=logger, \n",
    "                log_every_n_steps=1, \n",
    "                callbacks=[checkpoint_callback, early_stop_callback], \n",
    "                deterministic=True\n",
    "            )\n",
    "\n",
    "            trainer.fit(model, train_dataloader, val_dataloader)\n",
    "else:\n",
    "    print(\"Skipping training.\")"
   ]
  },
  {
   "cell_type": "markdown",
   "metadata": {},
   "source": [
    "## Evaluation"
   ]
  },
  {
   "cell_type": "markdown",
   "metadata": {},
   "source": [
    "## Error analysis"
   ]
  }
 ],
 "metadata": {
  "kernelspec": {
   "display_name": "nlp",
   "language": "python",
   "name": "python3"
  },
  "language_info": {
   "codemirror_mode": {
    "name": "ipython",
    "version": 3
   },
   "file_extension": ".py",
   "mimetype": "text/x-python",
   "name": "python",
   "nbconvert_exporter": "python",
   "pygments_lexer": "ipython3",
   "version": "3.11.5"
  }
 },
 "nbformat": 4,
 "nbformat_minor": 2
}

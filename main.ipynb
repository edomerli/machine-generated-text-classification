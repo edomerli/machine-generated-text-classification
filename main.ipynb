{
 "cells": [
  {
   "cell_type": "markdown",
   "metadata": {},
   "source": [
    "# Binary Human-Written vs Machine-Generated Text Classification"
   ]
  },
  {
   "cell_type": "markdown",
   "metadata": {},
   "source": [
    "### Imports"
   ]
  },
  {
   "cell_type": "code",
   "execution_count": 2,
   "metadata": {},
   "outputs": [],
   "source": [
    "import json"
   ]
  },
  {
   "cell_type": "markdown",
   "metadata": {},
   "source": [
    "## Data exploration"
   ]
  },
  {
   "cell_type": "code",
   "execution_count": 22,
   "metadata": {},
   "outputs": [
    {
     "name": "stdout",
     "output_type": "stream",
     "text": [
      "Examples of lines in the file:\n",
      "{\n",
      "    \"text\": \"Forza Motorsport is a popular racing game that provides players with the ability to race on various tracks and in different vehicles. Whether you're a seasoned racer or a newbie, playing Forza Motorsport can be a fun experience. In this article, we will take you through the different steps on how to play Forza Motorsport.\\n\\nStep 1. Insert The Game Disc\\n\\nThe first step is to insert the game disc into your console or computer. Follow the instructions to set up the game.\\n\\nStep 2. Choose Your Game\\n\\nOnce the game is set up, choose the game you'd like to play. Forza Motorsport has different modes: Career, Free Play, and Arcade. In this article, we will focus on the Arcade mode.\\n\\nStep 3. Just Make A Quick Race By The Arcade Mode\\n\\nOnce the Arcade mode is selected, choose \\\"Quick Race\\\" to get started quickly.\\n\\nStep 4. Pick A Racetrack\\n\\nPick a racetrack from the different ones available like Road Atlanta, New York, Rio de Janeiro, Maple Valley, or anything to choose from.\\n\\nStep 5. Pick A Class And A Car\\n\\nForza Motorsport has different car classes, from Classes A, B, C, D, S to R. Pick a class that suits your gaming style and choose a car of your liking.\\n\\nStep 6. The Options Panel\\n\\nThe Options Panel opens automatically after choosing a car. Press \\\"OK\\\", and be patient while the race is loading. It will show what time, wind direction, wind heading, and miles.\\n\\nStep 7. Accelerate\\n\\nTo accelerate, press the Right trigger to make the car engine running.\\n\\nStep 8. Go!\\n\\nOnce acceleration is complete, let go of the brakes and hit the gas to go!\\n\\nStep 9. The Arrows\\n\\nTo steer, use the left thumbstick and to turn to the left, move the thumbstick left, and to turn right, move the thumbstick right.\\n\\nStep 10. Pause The Game\\n\\nTo pause the game, just press the \\\"start\\\" button. If you feel lonely and wanted an operant, choose the \\\"Ghost car\\\" setting and turn it on.\\n\\nStep 11. Replay the Race\\n\\nIf you want to see how well you did, use this feature to see a video of the race, and it will show you turns for some reason.\\n\\nStep 12. Have Fun And Enjoy The Game!\\n\\nIn conclusion, Forza Motorsport can be a fun game with its impressive graphics, user-friendly interface, and thrilling gameplay. Follow these steps to improve your gameplay and have fun.\",\n",
      "    \"label\": 1,\n",
      "    \"model\": \"chatGPT\",\n",
      "    \"source\": \"wikihow\",\n",
      "    \"id\": 0\n",
      "}\n",
      "{\n",
      "    \"text\": \"Buying Virtual Console games for your Nintendo Wii is a fun and easy process that can net you some classic games to play on your console. With a few simple steps, you can be exploring the worlds of classic Nintendo games in no time. Here's how to buy Virtual Console games for your Nintendo Wii.\\n\\nMethod 1: Using a Wii Points Card\\n\\n1. Find a few Wii Points cards from game retailers like GameStop.\\n\\nIf you don't already have some, go to your local game retailer and look for Wii Points cards. These are usually sold in increments of $10 or $20 and come with a code on the back that you will use to add points to your system.\\n\\n2. Make sure your Wii is online and on a secure connection if possible.\\n\\nYou'll need an internet connection to access the Wii Shop Channel and purchase Virtual Console games. If possible, make sure your console is connected to a secure network.\\n\\n3. Open the Wii Shop Channel, and click Add Wii Points at the bottom right of your screen after the channel finishes loading.\\n\\nThis will take you to a screen with two options: \\\"From Card\\\" and \\\"With a Credit Card.\\\" Select \\\"From Card\\\" to proceed.\\n\\n4. Click \\\"From Card.\\\" \\n\\nThis will bring up a screen that prompts you to enter the code from your Wii Points card.\\n\\n5. Now, your Wii should be asking for a code with 5 segments, separated by dashes.\\n\\nEnter this code into the Wii now.\\n\\n6. After a few prompts, you will have Wii points added to your Wii, which is what you use to purchase games.\\n\\nOnce you've entered your code, the Wii will ask you to confirm the points you're adding. After a few more prompts, your points will be added to your system.\\n\\n7. Click \\\"Virtual Console.\\\"\\n\\nOnce your Wii points have been added, select \\\"Virtual Console\\\" from the Wii Shop Channel's main menu.\\n\\n8. Choose how you want the games to be displayed.\\n\\nYou can choose to display your games in a list or on a virtual shelf. Pick the one that works best for you.\\n\\n9. Scroll through the list for games that you want.\\n\\nThere are a wide variety of Virtual Console games available, so take your time and find ones that interest you.\\n\\n10. Click on a game you want to play, and hit Yes on the confirmation box.\\n\\nThis will take you to a final confirmation screen that shows you the game's price and prompts you to confirm your purchase. If you're ready to buy, hit \\\"Yes.\\\"\\n\\n11. Wait while the game is downloaded.\\n\\nThe download process can take several minutes, depending on the size of the game. Be patient and let it finish.\\n\\n12. After you have bought the games you want to play, go back to the Wii Menu.\\n\\nOnce the game has finished downloading, you'll be kicked back to the Wii Menu. Your new game will now be listed among your other channels.\\n\\n13. Select the new games you just bought, and start them like a regular channel.\\n\\nJust select the game and hit \\\"Start.\\\" Now you're ready to play!\\n\\nMethod 2: Using a Credit Card\\n\\n1. Open the Wii Shop Channel, and click Add Wii Points.\\n\\nInstead of selecting \\\"From Card,\\\" choose \\\"With a Credit Card.\\\" This will take you to a screen where you can enter your credit card information.\\n\\n2. Click \\\"With a Credit Card.\\\"\\n\\nThis will bring up a screen where you can enter your credit card information.\\n\\n3. Key in your Credit Card Number.\\n\\nEnter your credit card number, expiration date, and security code. Make sure this information is accurate, or the purchase won't go through.\\n\\n4. Let Nintendo authorize the purchase.\\n\\nOnce you've entered your information, Nintendo will authorize the purchase and add the appropriate number of points to your system.\\n\\n5. Go back to the Points Card process above and skip down to Step 7.\\n\\nNow that you have the necessary Wii Points, follow the steps above to purchase and download your favorite Virtual Console games.\",\n",
      "    \"label\": 1,\n",
      "    \"model\": \"chatGPT\",\n",
      "    \"source\": \"wikihow\",\n",
      "    \"id\": 1\n",
      "}\n",
      "{\n",
      "    \"text\": \" If you're a photographer, keep all the necessary lens, cords, and batteries in the same quadrant of your home or studio. Paints should be kept with brushes, cleaner, and canvas, print supplies should be by the ink, etc. Make broader groups and areas for your supplies to make finding them easier, limiting your search to a much smaller area. Some ideas include:\\n\\n\\nEssential supplies area -- the things you use every day.\\nInspiration and reference area.\\nDedicated work area .\\nInfrequent or secondary supplies area, tucked out of the way.;\\n, This doesn't mean cleaning the entire studio, it just means keeping the area immediately around the desk, easel, pottery wheel, etc. clean each night. Discard trash or unnecessary materials and wipe down dirty surfaces. Endeavor to leave the workspace in a way that you can sit down the next day and start working immediately, without having to do any work or tidying.\\n\\n\\nEven if the rest of your studio is a bit disorganized, an organized workspace will help you get down to business every time you want to make art.\\n\\n, As visual people, a lot of artist clutter comes from a desire to keep track of supplies visually instead of tucked out of sight. By using jars, old glasses, vases, and cheap, clear plastic drawers, you can keep things in sight without leaving it strewn about haphazardly. Some ideas, beyond those just mentioned, include:\\n\\n\\nCanvas shoe racks on the back of the door\\nWine racks with cups in each slot to hold pens/pencils.\\nPlastic restaurant squirt bottles for paint, pigment, etc., Simply string up the wires across a wall or along the ceiling and use them to hold essential papers that you don't want to cut or ruin with tacks or tape. Cheap and easy, this is also a good way to handle papers and ideas you touch regularly or need to pin up and down for inspiration., Shelving is an artist's best friend and is a cheap and easy way to get more room in your studio or art space. Don't be afraid to get up high either, especially for infrequently used supplies. The upper reaches of the room are often the most under-utilized, but provide vital space for all your tools and materials., Turning one wall into a chalkboard gives you a perfect space for ideas, sketches, and planning without requiring extra equipment or space. You can even use it for smaller areas. Paint over jars or storage equipment, allowing you to relabel them with chalk as your needs change.\\n\\n, A lot of disorganization comes when you keep moving the location of things, trying to optimize your space by reorganizing frequently. This usually has the opposite effect, leading to lost items and uncertainty when cleaning, but an afternoon with a label maker can solve everything. Instead of spending all of your mental energy looking for or storing things, you can just follow the labels, freeing your mind to think about art., Once a month, do a purge of your studio. If it isn't essential or part of a project, either throw it out or file it away for later. Artists are constantly making new things, experimenting, and making a mess. This is a good thing, but only if you set aside time to declutter. It may not be fun at the moment, but it is a lot more fun than spending 30 minutes digging through junk to find the right paint or an old sketch.\\n\\n\\nDon't be sentimental here. If you haven't used it in the last six months there is little chance you'll use it in the next six months. Toss it.\\n\\n\",\n",
      "    \"label\": 0,\n",
      "    \"model\": \"human\",\n",
      "    \"source\": \"wikihow\",\n",
      "    \"id\": 56406\n",
      "}\n"
     ]
    }
   ],
   "source": [
    "with open('./data/subtaskA_train_monolingual.jsonl') as f:\n",
    "    print(\"Examples of lines in the file:\")\n",
    "    for i in range(2):\n",
    "        example_line = f.readline()\n",
    "        example_dict = json.loads(example_line)\n",
    "        print(json.dumps(example_dict, indent=4))\n",
    "    while True:\n",
    "        example_negative_line = f.readline()\n",
    "        example_negative_dict = json.loads(example_negative_line)\n",
    "        if example_negative_dict[\"label\"] == 0:\n",
    "            print(json.dumps(example_negative_dict, indent=4))\n",
    "            break"
   ]
  },
  {
   "cell_type": "code",
   "execution_count": 23,
   "metadata": {},
   "outputs": [
    {
     "name": "stdout",
     "output_type": "stream",
     "text": [
      "Number of training points: 119757\n",
      "Average number of words in text field: 451.6186277211353\n",
      "Percentage of points labeled as 1s (machine generated): 47.10%\n"
     ]
    }
   ],
   "source": [
    "with open('./data/subtaskA_train_monolingual.jsonl') as f:\n",
    "    N_train = 0\n",
    "    avg_text_len = 0\n",
    "    positives = 0\n",
    "\n",
    "    for line in f:\n",
    "        N_train += 1\n",
    "        d = json.loads(line)\n",
    "        positives += int(d['label'])\n",
    "        avg_text_len += len(d['text'].split(' '))\n",
    "        if d['label'] not in [0, 1]:\n",
    "            print(f\"Invalid label: {d['label']}\")\n",
    "\n",
    "    print(f\"Number of training points: {N_train}\")\n",
    "    print(f\"Average number of words in text field: {avg_text_len/N_train}\")\n",
    "    print(f\"Percentage of points labeled as 1s (machine generated): {positives/N_train*100:.2f}%\")"
   ]
  },
  {
   "cell_type": "code",
   "execution_count": 24,
   "metadata": {},
   "outputs": [
    {
     "name": "stdout",
     "output_type": "stream",
     "text": [
      "Number of testing points: 5000\n",
      "Average number of words in text field: 338.0166\n",
      "Percentage of points labeled as 1s (machine generated): 50.00%\n"
     ]
    }
   ],
   "source": [
    "with open('./data/subtaskA_dev_monolingual.jsonl') as f:\n",
    "    N_test = 0\n",
    "    avg_text_len = 0\n",
    "    positives = 0\n",
    "\n",
    "    for line in f:\n",
    "        N_test += 1\n",
    "        d = json.loads(line)\n",
    "        positives += int(d['label'])\n",
    "        avg_text_len += len(d['text'].split(' '))\n",
    "        if d['label'] not in [0, 1]:\n",
    "            print(f\"Invalid label: {d['label']}\")\n",
    "\n",
    "    print(f\"Number of testing points: {N_test}\")\n",
    "    print(f\"Average number of words in text field: {avg_text_len/N_test}\")\n",
    "    print(f\"Percentage of points labeled as 1s (machine generated): {positives/N_test*100:.2f}%\")"
   ]
  },
  {
   "cell_type": "markdown",
   "metadata": {},
   "source": [
    "In the lack of a complete train/val/test split, we considered the dataset provided as \"development\" (dev), i.e. validation, as the test set and split the \"train\" dataset file using an **90/10 train/val split**."
   ]
  },
  {
   "cell_type": "code",
   "execution_count": null,
   "metadata": {},
   "outputs": [],
   "source": [
    "# TODO: Add some more statistics and GRAPHS (regarding sources and model!) about the data"
   ]
  },
  {
   "cell_type": "code",
   "execution_count": 15,
   "metadata": {},
   "outputs": [],
   "source": [
    "# TODO: choose how to split the dataset depending on how the dataloaders work"
   ]
  },
  {
   "cell_type": "markdown",
   "metadata": {},
   "source": [
    "## Data preparation"
   ]
  },
  {
   "cell_type": "markdown",
   "metadata": {},
   "source": [
    "## Metrics"
   ]
  },
  {
   "cell_type": "markdown",
   "metadata": {},
   "source": [
    "## Models"
   ]
  },
  {
   "cell_type": "markdown",
   "metadata": {},
   "source": [
    "### Baseline"
   ]
  },
  {
   "cell_type": "markdown",
   "metadata": {},
   "source": [
    "## Training"
   ]
  },
  {
   "cell_type": "markdown",
   "metadata": {},
   "source": [
    "## Evaluation"
   ]
  },
  {
   "cell_type": "markdown",
   "metadata": {},
   "source": [
    "## Error analysis"
   ]
  },
  {
   "cell_type": "code",
   "execution_count": null,
   "metadata": {},
   "outputs": [],
   "source": []
  }
 ],
 "metadata": {
  "kernelspec": {
   "display_name": "nlp",
   "language": "python",
   "name": "python3"
  },
  "language_info": {
   "codemirror_mode": {
    "name": "ipython",
    "version": 3
   },
   "file_extension": ".py",
   "mimetype": "text/x-python",
   "name": "python",
   "nbconvert_exporter": "python",
   "pygments_lexer": "ipython3",
   "version": "3.11.5"
  }
 },
 "nbformat": 4,
 "nbformat_minor": 2
}

{
 "cells": [
  {
   "cell_type": "markdown",
   "metadata": {},
   "source": [
    "# Binary Human-Written vs Machine-Generated Text Classification"
   ]
  },
  {
   "cell_type": "markdown",
   "metadata": {},
   "source": [
    "### Imports"
   ]
  },
  {
   "cell_type": "code",
   "execution_count": null,
   "metadata": {},
   "outputs": [],
   "source": [
    "# Run this cell to install the required packages\n",
    "\n",
    "#TODO: add all packages that need to be installed in colab\n",
    "# !pip install ipywidgets   #TODO: test if ipywidgets works also in colab or if must use @param etc."
   ]
  },
  {
   "cell_type": "code",
   "execution_count": 33,
   "metadata": {},
   "outputs": [],
   "source": [
    "import json\n",
    "import random\n",
    "\n",
    "from torch.utils.data import Dataset, DataLoader\n",
    "\n",
    "from sklearn.model_selection import train_test_split\n",
    "\n",
    "from ipywidgets import interact"
   ]
  },
  {
   "cell_type": "markdown",
   "metadata": {},
   "source": [
    "## Data Loading"
   ]
  },
  {
   "cell_type": "code",
   "execution_count": 40,
   "metadata": {},
   "outputs": [],
   "source": [
    "train_data = []\n",
    "with open('./data/subtaskA_train_monolingual.jsonl') as f:\n",
    "    for line in f:\n",
    "        train_data.append(json.loads(line))\n",
    "    \n",
    "test_data = []\n",
    "with open('./data/subtaskA_dev_monolingual.jsonl') as f:\n",
    "    for line in f:\n",
    "        test_data.append(json.loads(line))"
   ]
  },
  {
   "cell_type": "markdown",
   "metadata": {},
   "source": [
    "## Data exploration"
   ]
  },
  {
   "cell_type": "code",
   "execution_count": 41,
   "metadata": {},
   "outputs": [
    {
     "data": {
      "application/vnd.jupyter.widget-view+json": {
       "model_id": "1547e496a0e2401e914ba591b5e0cfc3",
       "version_major": 2,
       "version_minor": 0
      },
      "text/plain": [
       "interactive(children=(IntSlider(value=59878, description='i', max=119756), Output()), _dom_classes=('widget-in…"
      ]
     },
     "metadata": {},
     "output_type": "display_data"
    }
   ],
   "source": [
    "@interact(i=(0, len(train_data)-1, 1))\n",
    "def print_datapoint(i):\n",
    "    return train_data[i]"
   ]
  },
  {
   "cell_type": "code",
   "execution_count": null,
   "metadata": {},
   "outputs": [],
   "source": [
    "# TODO: strip the field model from the data, since it's just a harder task (might be useful later on the error analysis), but consider passing source as a parameter to the model"
   ]
  },
  {
   "cell_type": "code",
   "execution_count": null,
   "metadata": {},
   "outputs": [],
   "source": [
    "# TODO: Add some more statistics and GRAPHS (regarding sources and model!) about the data"
   ]
  },
  {
   "cell_type": "code",
   "execution_count": 36,
   "metadata": {},
   "outputs": [
    {
     "name": "stdout",
     "output_type": "stream",
     "text": [
      "Size of training data: 119757\n",
      "Size of test data: 5000\n"
     ]
    }
   ],
   "source": [
    "print(f\"Size of training data: {len(train_data)}\")\n",
    "print(f\"Size of test data: {len(test_data)}\")"
   ]
  },
  {
   "cell_type": "markdown",
   "metadata": {},
   "source": [
    "## Data preparation"
   ]
  },
  {
   "cell_type": "markdown",
   "metadata": {},
   "source": [
    "In the lack of a complete train/val/test split, we considered the dataset provided as \"development\" (dev), i.e. validation set, as the test set and split the \"train\" dataset file using an **90/10 train/val split**.\n",
    "\n",
    "We did so while maintaining class proportions invariate."
   ]
  },
  {
   "cell_type": "code",
   "execution_count": 37,
   "metadata": {},
   "outputs": [],
   "source": [
    "positive_data = [d for d in train_data if d['label'] == 1]\n",
    "negative_data = [d for d in train_data if d['label'] == 0]\n",
    "\n",
    "test_split = 0.1\n",
    "positive_train_data, positive_val_data = train_test_split(positive_data, test_size=test_split, random_state=42)\n",
    "negative_train_data, negative_val_data = train_test_split(negative_data, test_size=test_split, random_state=42)\n",
    "\n",
    "train_data = positive_train_data + negative_train_data\n",
    "val_data = positive_val_data + negative_val_data\n",
    "\n",
    "# Shuffle the data\n",
    "random.seed(42)\n",
    "random.shuffle(train_data)"
   ]
  },
  {
   "cell_type": "code",
   "execution_count": 38,
   "metadata": {},
   "outputs": [],
   "source": [
    "def print_stats(data, name):\n",
    "    avg_text_len = 0\n",
    "    positives = 0\n",
    "\n",
    "    for d in data:\n",
    "        assert d['label'] in [0, 1]\n",
    "\n",
    "        positives += int(d['label'])\n",
    "        avg_text_len += len(d['text'].split(' '))\n",
    "\n",
    "    print(f\"Stats for {name} data:\")\n",
    "    print(f\"Number of texts: {len(data)}\")\n",
    "    print(f\"Average number of words in text field: {avg_text_len/len(data):.2f}\")\n",
    "    print(f\"Percentage of texts labeled as 1s (machine generated): {positives/len(data)*100:.2f}% \\n\")"
   ]
  },
  {
   "cell_type": "code",
   "execution_count": 39,
   "metadata": {},
   "outputs": [
    {
     "name": "stdout",
     "output_type": "stream",
     "text": [
      "Stats for training data:\n",
      "Number of texts: 107780\n",
      "Average number of words in text field: 450.67\n",
      "Percentage of texts labeled as 1s (machine generated): 47.10% \n",
      "\n",
      "Stats for validation data:\n",
      "Number of texts: 11977\n",
      "Average number of words in text field: 460.13\n",
      "Percentage of texts labeled as 1s (machine generated): 47.10% \n",
      "\n",
      "Stats for test data:\n",
      "Number of texts: 5000\n",
      "Average number of words in text field: 338.02\n",
      "Percentage of texts labeled as 1s (machine generated): 50.00% \n",
      "\n"
     ]
    }
   ],
   "source": [
    "print_stats(train_data, \"training\")\n",
    "print_stats(val_data, \"validation\")\n",
    "print_stats(test_data, \"test\")"
   ]
  },
  {
   "cell_type": "code",
   "execution_count": null,
   "metadata": {},
   "outputs": [],
   "source": [
    "class TextDataset(Dataset):\n",
    "    def __init__(self, data):\n",
    "        self.data = data\n",
    "\n",
    "    def __len__(self):\n",
    "        return len(self.data)\n",
    "\n",
    "    def __getitem__(self, idx):\n",
    "        return self.data[idx]"
   ]
  },
  {
   "cell_type": "markdown",
   "metadata": {},
   "source": [
    "## Metrics"
   ]
  },
  {
   "cell_type": "markdown",
   "metadata": {},
   "source": [
    "## Models"
   ]
  },
  {
   "cell_type": "markdown",
   "metadata": {},
   "source": [
    "### Baseline"
   ]
  },
  {
   "cell_type": "markdown",
   "metadata": {},
   "source": [
    "## Training"
   ]
  },
  {
   "cell_type": "markdown",
   "metadata": {},
   "source": [
    "## Evaluation"
   ]
  },
  {
   "cell_type": "markdown",
   "metadata": {},
   "source": [
    "## Error analysis"
   ]
  }
 ],
 "metadata": {
  "kernelspec": {
   "display_name": "nlp",
   "language": "python",
   "name": "python3"
  },
  "language_info": {
   "codemirror_mode": {
    "name": "ipython",
    "version": 3
   },
   "file_extension": ".py",
   "mimetype": "text/x-python",
   "name": "python",
   "nbconvert_exporter": "python",
   "pygments_lexer": "ipython3",
   "version": "3.11.5"
  }
 },
 "nbformat": 4,
 "nbformat_minor": 2
}
